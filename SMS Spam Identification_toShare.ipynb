{
 "cells": [
  {
   "cell_type": "markdown",
   "metadata": {},
   "source": [
    "# SPAM Identification on SMS Data\n",
    "\n",
    "* **Problem Statement:** Identify SPAMS on SMS data using Naive Bayes' classifier\n",
    "\n",
    "* **Dataset:** https://archive.ics.uci.edu/ml/datasets/sms+spam+collection\n",
    "\n",
    "* **Feature Engineering:** Perform TFIDF\n",
    "\n",
    "* **Model:** Build a Naive Bayes model using TFIDF score of text data for SPAM identification. Saved as a .pkl file"
   ]
  },
  {
   "cell_type": "markdown",
   "metadata": {},
   "source": [
    "### __`Model File`__"
   ]
  },
  {
   "cell_type": "code",
   "execution_count": 8,
   "metadata": {},
   "outputs": [],
   "source": [
    "#  saved model file\n",
    "saved_model_file_path ='spam_identification_naive_bayes_model.pkl'"
   ]
  },
  {
   "cell_type": "markdown",
   "metadata": {},
   "source": [
    "### __`All imports`__"
   ]
  },
  {
   "cell_type": "code",
   "execution_count": 9,
   "metadata": {},
   "outputs": [],
   "source": [
    "#Libraries\n",
    "from sklearn import model_selection, preprocessing, linear_model, naive_bayes, metrics\n",
    "from sklearn.feature_extraction.text import TfidfVectorizer, CountVectorizer\n",
    "from sklearn import decomposition, ensemble\n",
    "import pandas , numpy, string\n",
    "import pickle"
   ]
  },
  {
   "cell_type": "markdown",
   "metadata": {},
   "source": [
    "### __`Load Model`__"
   ]
  },
  {
   "cell_type": "code",
   "execution_count": 10,
   "metadata": {},
   "outputs": [],
   "source": [
    "spam_identification_naive_bayes_model = pickle.load(open(saved_model_file_path, 'rb'))"
   ]
  },
  {
   "cell_type": "code",
   "execution_count": 76,
   "metadata": {},
   "outputs": [
    {
     "data": {
      "text/plain": [
       "(5572, 2)"
      ]
     },
     "execution_count": 76,
     "metadata": {},
     "output_type": "execute_result"
    }
   ],
   "source": [
    "#Read Data\n",
    "data = pandas.read_excel('D:\\\\Amazon Sagemaker\\\\SMSSpamCollection Data.xlsx',dtype=str)\n",
    "data.shape"
   ]
  },
  {
   "cell_type": "code",
   "execution_count": 77,
   "metadata": {},
   "outputs": [
    {
     "data": {
      "text/plain": [
       "Index(['label', 'text'], dtype='object')"
      ]
     },
     "execution_count": 77,
     "metadata": {},
     "output_type": "execute_result"
    }
   ],
   "source": [
    "data.head(10)\n",
    "data.columns"
   ]
  },
  {
   "cell_type": "code",
   "execution_count": 78,
   "metadata": {},
   "outputs": [
    {
     "data": {
      "text/plain": [
       "dtype('O')"
      ]
     },
     "execution_count": 78,
     "metadata": {},
     "output_type": "execute_result"
    }
   ],
   "source": [
    "data['text'].dtype\n",
    "#type(data)"
   ]
  },
  {
   "cell_type": "code",
   "execution_count": 79,
   "metadata": {},
   "outputs": [
    {
     "data": {
      "text/plain": [
       "ham     4825\n",
       "spam     747\n",
       "Name: label, dtype: int64"
      ]
     },
     "execution_count": 79,
     "metadata": {},
     "output_type": "execute_result"
    }
   ],
   "source": [
    "data.label.value_counts()"
   ]
  },
  {
   "cell_type": "code",
   "execution_count": 80,
   "metadata": {},
   "outputs": [],
   "source": [
    "# split the dataset into training and validation datasets \n",
    "numpy.random.seed(24)\n",
    "train_x, valid_x, train_y, valid_y = model_selection.train_test_split(data[['text']], data['label'])"
   ]
  },
  {
   "cell_type": "code",
   "execution_count": 81,
   "metadata": {},
   "outputs": [],
   "source": [
    "# label encode the target variable \n",
    "encoder = preprocessing.LabelEncoder()\n",
    "train_y = encoder.fit_transform(train_y)\n",
    "valid_y = encoder.fit_transform(valid_y)"
   ]
  },
  {
   "cell_type": "code",
   "execution_count": 82,
   "metadata": {},
   "outputs": [
    {
     "name": "stdout",
     "output_type": "stream",
     "text": [
      "[[   0    1]\n",
      " [3609  570]]\n"
     ]
    }
   ],
   "source": [
    "#train_x.shape\n",
    "unique_elements, counts_elements = numpy.unique(train_y, return_counts=True)\n",
    "print(numpy.asarray((unique_elements, counts_elements)))"
   ]
  },
  {
   "cell_type": "code",
   "execution_count": 83,
   "metadata": {},
   "outputs": [
    {
     "name": "stdout",
     "output_type": "stream",
     "text": [
      "[[   0    1]\n",
      " [1216  177]]\n"
     ]
    }
   ],
   "source": [
    "#valid_x.shape\n",
    "unique_elements, counts_elements = numpy.unique(valid_y, return_counts=True)\n",
    "print(numpy.asarray((unique_elements, counts_elements)))"
   ]
  },
  {
   "cell_type": "code",
   "execution_count": 84,
   "metadata": {},
   "outputs": [],
   "source": [
    "# TFIDF\n",
    "tfidf_vect = TfidfVectorizer(analyzer='word', stop_words='english',  max_features=100, binary= False)\n",
    "#corpus_title = data['text'].tolist()\n",
    "#tfidf_vect = TfidfVectorizer(min_df = 1,lowercase = False, ngram_range = (1,1), use_idf = True, stop_words='english')\n",
    "tfidf_vect.fit(data['text'])\n",
    "xtrain_tfidf =  tfidf_vect.transform(train_x['text'])\n",
    "xvalid_tfidf =  tfidf_vect.transform(valid_x['text'])"
   ]
  },
  {
   "cell_type": "code",
   "execution_count": 85,
   "metadata": {},
   "outputs": [
    {
     "data": {
      "text/plain": [
       "MultinomialNB(alpha=1.0, class_prior=None, fit_prior=True)"
      ]
     },
     "execution_count": 85,
     "metadata": {},
     "output_type": "execute_result"
    }
   ],
   "source": [
    "#Naive Bayes Model\n",
    "classifier= naive_bayes.MultinomialNB()\n",
    "classifier.fit(xtrain_tfidf, train_y)"
   ]
  },
  {
   "cell_type": "code",
   "execution_count": 88,
   "metadata": {},
   "outputs": [
    {
     "name": "stdout",
     "output_type": "stream",
     "text": [
      "confusion_matrix_train: \n",
      " [[3574   35]\n",
      " [ 144  426]]\n",
      "accuracy_train: \n",
      " 0.957166786312515\n"
     ]
    }
   ],
   "source": [
    "#Prediction on train data\n",
    "train_predictions = classifier.predict(xtrain_tfidf)\n",
    "conf_mat_train= metrics.confusion_matrix(train_y, train_predictions)\n",
    "accuracy_train= metrics.accuracy_score(train_predictions, train_y)\n",
    "print(\"confusion_matrix_train: \\n\", conf_mat_train)\n",
    "print(\"accuracy_train: \\n\", accuracy_train)"
   ]
  },
  {
   "cell_type": "code",
   "execution_count": 89,
   "metadata": {},
   "outputs": [
    {
     "name": "stdout",
     "output_type": "stream",
     "text": [
      "confusion_matrix_test: \n",
      " [[1205   11]\n",
      " [  44  133]]\n",
      "accuracy_test: \n",
      " 0.9605168700646087\n"
     ]
    }
   ],
   "source": [
    "#Prediction on test/ validation data\n",
    "valid_predictions = classifier.predict(xvalid_tfidf)\n",
    "conf_mat_test= metrics.confusion_matrix(valid_y, valid_predictions)\n",
    "accuracy_test= metrics.accuracy_score(valid_predictions, valid_y)\n",
    "print(\"confusion_matrix_test: \\n\", conf_mat_test)\n",
    "print(\"accuracy_test: \\n\", accuracy_test)"
   ]
  },
  {
   "cell_type": "code",
   "execution_count": 91,
   "metadata": {},
   "outputs": [],
   "source": [
    "import pickle"
   ]
  },
  {
   "cell_type": "code",
   "execution_count": 92,
   "metadata": {},
   "outputs": [],
   "source": [
    "# save the model \n",
    "filename = 'D:\\\\Amazon Sagemaker\\\\final_model.sav'\n",
    "pickle.dump(classifier, open(filename, 'wb'))"
   ]
  },
  {
   "cell_type": "code",
   "execution_count": 93,
   "metadata": {},
   "outputs": [
    {
     "name": "stdout",
     "output_type": "stream",
     "text": [
      "0.9605168700646087\n"
     ]
    }
   ],
   "source": [
    "# Load Model and make predictions\n",
    "loaded_model = pickle.load(open(filename, 'rb'))\n",
    "result = loaded_model.score(xvalid_tfidf, valid_y)\n",
    "print(result)"
   ]
  },
  {
   "cell_type": "code",
   "execution_count": null,
   "metadata": {},
   "outputs": [],
   "source": []
  }
 ],
 "metadata": {
  "kernelspec": {
   "display_name": "Python 3",
   "language": "python",
   "name": "python3"
  },
  "language_info": {
   "codemirror_mode": {
    "name": "ipython",
    "version": 3
   },
   "file_extension": ".py",
   "mimetype": "text/x-python",
   "name": "python",
   "nbconvert_exporter": "python",
   "pygments_lexer": "ipython3",
   "version": "3.6.4"
  }
 },
 "nbformat": 4,
 "nbformat_minor": 2
}
